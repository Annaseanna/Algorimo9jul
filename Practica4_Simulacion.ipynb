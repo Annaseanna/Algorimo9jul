{
  "nbformat": 4,
  "nbformat_minor": 0,
  "metadata": {
    "colab": {
      "provenance": [],
      "authorship_tag": "ABX9TyPYnQpGEHL1GJeUkRgZiueA",
      "include_colab_link": true
    },
    "kernelspec": {
      "name": "python3",
      "display_name": "Python 3"
    },
    "language_info": {
      "name": "python"
    }
  },
  "cells": [
    {
      "cell_type": "markdown",
      "metadata": {
        "id": "view-in-github",
        "colab_type": "text"
      },
      "source": [
        "<a href=\"https://colab.research.google.com/github/Annaseanna/Simulacion-de-sistemas/blob/main/Practica4_Simulacion.ipynb\" target=\"_parent\"><img src=\"https://colab.research.google.com/assets/colab-badge.svg\" alt=\"Open In Colab\"/></a>"
      ]
    },
    {
      "cell_type": "markdown",
      "source": [
        "# **Práctica 4 - Simulación de Sistemas**\n",
        "***Anna Ospina Bedoya***"
      ],
      "metadata": {
        "id": "mTfu5mWWNJCx"
      }
    },
    {
      "cell_type": "markdown",
      "source": [
        "Widgetco va a introducir un nuevo producto, el producto 3. Cada unidad de producto 3 se obtiene ensamblando una unidad de producto 1 y una unidad de producto 2. Antes de que se empiecen a producir los productos 1 y 2, hay que comprar materias primas y entrenar a los trabajadores. Antes de ensamblar los productos 1 y 2 en el producto 3, el producto terminado 2 debe ser inspeccionado. \n",
        "\n",
        "La duración de las actividades es incierta, y sigue una distribución triangular donde a es la estimación más optimista de la duración, b la menos optimista y  m la más probable. \n",
        "\n",
        "*   Crear un programa en Python o Excel que calcule el tiempo estimado para completar el proyecto. En el programa deben usarse las técnicas de transformada inversa vistas en clase.\n",
        "*   Realizar 1000 simulaciones o más y determinar ¿Cuál es la probabilidad de terminar antes de 43 días?\n",
        "*   ¿Son 1000 simulaciones suficientes para estimar la duración con un error de 2 días?\n",
        "\n",
        "\n",
        "\n",
        "\n",
        "\n",
        "\n",
        "\n",
        "\n"
      ],
      "metadata": {
        "id": "_Soyx4XStkLH"
      }
    },
    {
      "cell_type": "code",
      "execution_count": 2,
      "metadata": {
        "colab": {
          "base_uri": "https://localhost:8080/"
        },
        "id": "CeGxifU42R_k",
        "outputId": "c9344643-2a95-4d11-83b4-60d41ca2f947"
      },
      "outputs": [
        {
          "output_type": "stream",
          "name": "stdout",
          "text": [
            "La probabilidad de terminar antes de 43 días es:0.935\n",
            "El numero de interacciones necesarias es 9.9\n"
          ]
        }
      ],
      "source": [
        "#Importamos la libreria para gnerar un número aleatorio \n",
        "import random\n",
        "#Importamos la libreria math para hacer calculos estimados\n",
        "import math \n",
        "#Numero de simulaciones \n",
        "N=1000\n",
        "#Creamos la funcion de transformacion inversa que recibe los limites a y b y la probabilidad(c)\n",
        "def transformarInv(a,b,c):\n",
        "  #Generamos un nimero aleatorio entre 0 y 1\n",
        "  r=random.random()\n",
        "  #Aplicamos la funcion de la transformación inversa\n",
        "  r1=(c-a)/(b-a)\n",
        "  #print(r)\n",
        "  if r <=r1:\n",
        "    obs=a+math.sqrt(r*(b-a)*(c-a))\n",
        "  else :\n",
        "    obs=b-math.sqrt((1-r)*(b-a)*(b-c))\n",
        "  return(obs)\n",
        "#Declaramos una lista que guardara los tiempos segun las ramas\n",
        "tiempo= []\n",
        "for i in range(N):\n",
        "  #Se aplica la funcion a cada uno de los nodos\n",
        "  a_1=transformarInv(2,10,6)\n",
        "  b_1=transformarInv(5,13,9)\n",
        "  c_2=transformarInv(3,13,8)\n",
        "  d_2=transformarInv(1,13,7)\n",
        "  e_3=transformarInv(8,12,10)\n",
        "  f_4=transformarInv(9,15,12)\n",
        "  #Se agrega el elemento a la lista teniendo en cuenta los nodos con los que esta conectado\n",
        "  tiempo.append(max(a_1,b_1)+max(c_2,d_2+e_3)+f_4)\n",
        "#Se crea una lista que tenga los elementos de la lista tiempo que son menores a 43\n",
        "x=[x for x in tiempo if x<43 ]\n",
        "#Se obtiene el promedio sumando los elementos de la lista tiempo y dividiendolos en el numero de simulaciones\n",
        "promedio=sum(tiempo)/N\n",
        "#Se obtiene la probabilidad de terminar antes de 43 dias\n",
        "probabilidad=len(x)/N\n",
        "print(f'La probabilidad de terminar antes de 43 días es:{probabilidad}')\n",
        "#Calculamos la desviacion para aplicarlo a en la formula de n\n",
        "a=[math.pow((i-promedio),2) for i in tiempo]\n",
        "desviacion=math.sqrt(sum(a)/N)\n",
        "#Se calcula n\n",
        "n=round(((math.pow(1.96,2)*(math.pow(desviacion,2)))/4),2)\n",
        "print(f'El numero de interacciones necesarias es {n}')\n",
        "\n"
      ]
    }
  ]
}