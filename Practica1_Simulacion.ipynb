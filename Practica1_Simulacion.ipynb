{
  "nbformat": 4,
  "nbformat_minor": 0,
  "metadata": {
    "colab": {
      "provenance": [],
      "authorship_tag": "ABX9TyNS9NL6WEqJSY+yKubnEowA",
      "include_colab_link": true
    },
    "kernelspec": {
      "name": "python3",
      "display_name": "Python 3"
    },
    "language_info": {
      "name": "python"
    }
  },
  "cells": [
    {
      "cell_type": "markdown",
      "metadata": {
        "id": "view-in-github",
        "colab_type": "text"
      },
      "source": [
        "<a href=\"https://colab.research.google.com/github/Annaseanna/Simulacion-de-sistemas/blob/main/Practica1_Simulacion.ipynb\" target=\"_parent\"><img src=\"https://colab.research.google.com/assets/colab-badge.svg\" alt=\"Open In Colab\"/></a>"
      ]
    },
    {
      "cell_type": "markdown",
      "source": [
        "**1.1. Juegos de azar: lotería instantánea**\n",
        "\n",
        "Una lotería instantánea es un cartón que tiene impresas tres filas con dos casillas cada una. En cada fila, una casilla tiene oculto un valor de $1000$ y otra de $5000$.\n",
        "\n",
        "El jugador raspa una casilla de cada renglón; si los tres números descubiertos son iguales, gana esa cantidad. De lo contrario, gana cero."
      ],
      "metadata": {
        "id": "Vy7G_lBtrh7k"
      }
    },
    {
      "cell_type": "code",
      "execution_count": null,
      "metadata": {
        "colab": {
          "base_uri": "https://localhost:8080/"
        },
        "id": "CFS_WYx9g3v-",
        "outputId": "4d89c516-1075-4d75-b032-d35123698b8c"
      },
      "outputs": [
        {
          "output_type": "stream",
          "name": "stdout",
          "text": [
            "Ingrese el numero de juegos que desea ejecutar\n",
            "1000000\n",
            "\n",
            "Probabilidades dentro del juego\n",
            "\n",
            "Probabilidad de ganar en el juego con 1000000 repeticiones: 24.963%\n",
            "Probabilidad de ganar 1000 con 1000000 repeticiones: 12.547%\n",
            "Probabilidad de ganar 5000 con 1000000 repeticiones: 12.416%\n",
            "Probabilidad de no ganar en el juego con 1000000 repeticiones: 75.037%\n",
            "\n",
            "Ganancias dentro del juego\n",
            "\n",
            "Lo minimo que puedo cobrar calculado con el metodo 1 no tener perdidas es: 746.269\n",
            "Lo minimo que puedo cobrar calculado con el metodo 2 no tener perdidas es: 746.269\n",
            "\n",
            "Desviacion estandar\n",
            "\n",
            "La desviacion estandar de las ganancias es de 1634.79\n"
          ]
        }
      ],
      "source": [
        "#Importamos la libreria de random\n",
        "import random\n",
        "#Se ingresa un numero el cual es el N con el que trabajaremos\n",
        "print(\"Ingrese el numero de juegos que desea ejecutar\")\n",
        "juegos=int(input())\n",
        "porJuego=[]\n",
        "ganador_1000,ganador_5000,perdedor,total=0,0,0,0\n",
        "\n",
        "for juego in range(juegos):\n",
        "  #Con list comprehesion se sacan 3 numeros entre 0 y 1\n",
        "  loteria=[random.random() for x in range(3)]\n",
        "  #Si el numero es menor a 0.5 se le asigna 1000, en caso contrario 5000\n",
        "  loteria=[1000 if x <0.5 else 5000 for x in loteria]\n",
        "  #Si la suma de los tres valores es 15000 fue porque en cada uno de ellos se saco 5000\n",
        "  if sum(loteria)==15000:\n",
        "    ganador_5000+=1\n",
        "    porJuego.append(5000)\n",
        "    total+=5000\n",
        "  #Si la suma da igual a tresmil fue porque en los 3 numeros los resultados fueron 1000  \n",
        "  elif sum(loteria)==3000:\n",
        "    ganador_1000+=1\n",
        "    porJuego.append(1000)#Para saber en cuales juegos saco 5000 o 1000\n",
        "    total+=1000\n",
        "  else:\n",
        "    perdedor+=1\n",
        "    porJuego.append(0)\n",
        "\n",
        "#Probabilidad de ganar en la loteria\n",
        "probabilidadGanar=(ganador_1000+ganador_5000)/juegos\n",
        "print(\"\\nProbabilidades dentro del juego\\n\")\n",
        "print(f'Probabilidad de ganar en el juego con {juegos} repeticiones: {round(((probabilidadGanar)*100),3)}%')\n",
        "print(f'Probabilidad de ganar 1000 con {juegos} repeticiones: {round(((ganador_1000/juegos)*100),3)}%')\n",
        "print(f'Probabilidad de ganar 5000 con {juegos} repeticiones: {round(((ganador_5000/juegos)*100),3)}%')\n",
        "print(f'Probabilidad de no ganar en el juego con {juegos} repeticiones: {round(((perdedor/juegos)*100),3)}%')\n",
        "\n",
        "#Valor de la boleta que puede cobrar para no generar ni perdidas ni ganancias\n",
        "print(\"\\nGanancias dentro del juego\\n\")\n",
        "#Metodo 1\n",
        "valorE=((perdedor/juegos)*0)+((ganador_1000/juegos)*1000)+((ganador_5000/juegos)*5000)\n",
        "#Metodo 2\n",
        "minimoGanancias=total/juegos\n",
        "print(\"Lo minimo que puedo cobrar calculado con el metodo 1 no tener perdidas es: \"+str(round(valorE,3)))\n",
        "print(\"Lo minimo que puedo cobrar calculado con el metodo 2 no tener perdidas es: \"+str(minimoGanancias))\n",
        "\n",
        "#Desviacion estandar\n",
        "print(\"\\nDesviacion estandar\\n\")\n",
        "x=[(i-minimoGanancias)**2 for i in porJuego]\n",
        "desviacion=(sum(x)/(juegos))**(1/2)\n",
        "print(f'La desviacion estandar de las ganancias es de {round(desviacion,2)}')\n"
      ]
    }
  ]
}