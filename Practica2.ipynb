{
  "nbformat": 4,
  "nbformat_minor": 0,
  "metadata": {
    "colab": {
      "provenance": [],
      "authorship_tag": "ABX9TyPF0b5E3WxFCGF/+DbjcZap",
      "include_colab_link": true
    },
    "kernelspec": {
      "name": "python3",
      "display_name": "Python 3"
    },
    "language_info": {
      "name": "python"
    }
  },
  "cells": [
    {
      "cell_type": "markdown",
      "metadata": {
        "id": "view-in-github",
        "colab_type": "text"
      },
      "source": [
        "<a href=\"https://colab.research.google.com/github/Annaseanna/Simulacion-de-sistemas/blob/main/Practica2.ipynb\" target=\"_parent\"><img src=\"https://colab.research.google.com/assets/colab-badge.svg\" alt=\"Open In Colab\"/></a>"
      ]
    },
    {
      "cell_type": "markdown",
      "source": [
        "## **Practica 2 - Simulacion de sistemas**\n",
        "***Anna Ospina Bedoya***"
      ],
      "metadata": {
        "id": "6a-FZtKrzntP"
      }
    },
    {
      "cell_type": "markdown",
      "source": [
        "A los vendedores de una tienda de bicicletas les pagan un bono si venden más de 4 bicicletas diarias. La probabilidad de vender más de 4 bicicletas es sólo 0.4. Si el número de bicicletas vendido es mayor que 4, la distribución de las ventas es la siguiente:\n",
        "\n",
        "![Captura.PNG](data:image/png;base64,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)\n",
        "\n",
        "La tienda tiene 4 modelos de bicicletas y el bono depende del modelo vendido. Para el modelo A el bono es de *10*; 40% de las bicicletas vendidas son de ese tipo. El modelo B representa el 35% de las ventas y paga un bono de *15*. El modelo C paga un bono de *20* y representa el 20% de las ventas y el modelo D tiene un bono de *25* y representa sólo el 5% de las ventas. "
      ],
      "metadata": {
        "id": "FW1jVn_8zg4P"
      }
    },
    {
      "cell_type": "code",
      "source": [
        "from os import setxattr\n",
        "import random\n",
        "import matplotlib.pyplot as plt\n",
        "\n",
        "#Se define una funcion que calcula el numero de bicicletas vendidas por dia\n",
        "def vendidas():\n",
        "  #Se declara una variable que guarda el numero de ventas dependiendo de lo obtenido en la variable seudoaleatoria dia\n",
        "  n_vendidas=0\n",
        "  dia=random.random()\n",
        "  if dia <0.4:\n",
        "    ventas=random.random()\n",
        "    if ventas<0.35:\n",
        "      n_vendidas+=1\n",
        "    elif ventas<0.80:\n",
        "      n_vendidas+=2\n",
        "    elif ventas<0.95:\n",
        "      n_vendidas+=3\n",
        "    else:\n",
        "      n_vendidas+=4\n",
        "  else: #La variable n_vendidas es igual a 0 si la variable pseudoaleatoria dia entra en el 60% que vendieron un valor menor o igual a 4\n",
        "    n_vendidas=0  \n",
        "  return n_vendidas  \n",
        "\n",
        "#Funcion que calcula el bono dependiendo del tipo de bicicleta\n",
        "def calculo_bono():\n",
        "  bono=0\n",
        "  tipo=random.random()\n",
        "  if tipo<0.4:\n",
        "    bono+=10\n",
        "  elif tipo<0.75:\n",
        "    bono+=15\n",
        "  elif tipo<0.95:\n",
        "    bono+=20\n",
        "  else:\n",
        "    bono+=25\n",
        "  return bono  \n",
        "\n",
        "#Funcion que calcula con base a los dias las ganancias de un trabajador en bonos\n",
        "def bono_dia(N):\n",
        "  lista=[]\n",
        "  #Se construye un for que recorre segun los dias a calcular\n",
        "  for i in range(N):\n",
        "    a=vendidas() #Se llama a la funcion que calcula el numero de bicletas adicionales que se vendieron\n",
        "    if a==0: #Si no se obtuvo mas de 4 ventas se va a agregar a la lista de bonos el valor de 0\n",
        "      lista.append(0)\n",
        "    else:\n",
        "      #En caso de que si se hayan tenido mas de 4 ventas se calculara un iterador que sume la cantidad de dinero que se obtuvo por dias\n",
        "      sum=0\n",
        "      for j in range(a):\n",
        "        b=calculo_bono()#Se llama a la funcion que calcula que tipo de bicicleta vendio de mas\n",
        "        sum+=b\n",
        "      lista.append(sum)#Se agrega la suma de los bonos por dias en una lista\n",
        "  return lista\n",
        "print(\"---------- Practica 2 - Simulacion de Sistemas ----------\") \n",
        "print(\"-- Punto 1 --\") \n",
        "#Valor Esperado   \n",
        "print(\"Ingrese el numero de dias con los que desee saber el valor esperado del bono de un vendedor\")\n",
        "N=int(input())\n",
        "valorE=bono_dia(N)\n",
        "valorEsperado=sum(valorE)/N\n",
        "print(f'El valor esperado de el bono que un vendedor puede obtener en un dia es:${valorEsperado}\\n')\n",
        "\n",
        "print(\"-- Punto 2 --\") \n",
        "porBici=bono_dia(100)\n",
        "#Funcion que calcula la desviacion o a \"s\" dependiendo del parametro a \n",
        "def desviacion(lista,n,a):\n",
        "  promedioBonos=sum(lista)/n      \n",
        "  #A cada xi le resto el promedio al cuadrado \n",
        "  x=[(i-promedioBonos)**2 for i in lista]\n",
        "  #Si a es verdadero calcula la desviacion\n",
        "  if a:\n",
        "    desviacion=(sum(x)/n)**(1/2)\n",
        "  #Si a es falso calcula la s\n",
        "  else:\n",
        "    desviacion=(sum(x)/n-1)**(1/2) \n",
        "  return desviacion\n",
        "#Numero de interacciones\n",
        "#El estadistico z con precision del 95% nos dio un resultado de 1.96\n",
        "#Y se aplica la formula para calcular el numero de interacciones\n",
        "n=round(((1.96)**2)*((desviacion(porBici,100,True))**2),2)\n",
        "print(f'El numero de interacciones necesarias es {n}')\n",
        "\n",
        "#Punto 3\n",
        "print(\"-- Punto 3 --\") \n",
        "#Se llama a la funcion bono_dia con el parametro del numero de dias que queremos calcular\n",
        "hist=bono_dia(10000)\n",
        "#Inciso a\n",
        "#Se hace uso de la libreria matplotlib para graficar un histograma\n",
        "plt.hist(hist)\n",
        "plt.title(\"Histograma de bonos por dia\")\n",
        "plt.xlabel(\"Dinero obtenido en bonificaciones por dia\")\n",
        "plt.ylabel(\"Numero de días\")\n",
        "#Inciso b\n",
        "print(f'El minimo de las utilidades es {min(hist)}')\n",
        "print(f'El maximo de las utilidades es {max(hist)}')\n",
        "print(f'El promedio de las utilidades es {round((sum(hist)/10000),2)}')\n",
        "#Funcion para calcular la mediana\n",
        "def mediana(hist):\n",
        "  hist.sort()\n",
        "  if len(hist) % 2 ==0:\n",
        "    a=len(hist)/2\n",
        "    b=(len(hist)/2)+1\n",
        "    c=(hist[int(a)]+hist[int(b)])/2\n",
        "    return c\n",
        "  else:\n",
        "    a=len(hist)/2\n",
        "    return hist[int(a)]\n",
        "print(f'La mediana de  de las utilidades es {mediana(hist)}')\n",
        "#Inciso c\n",
        "print(f'La desviacion de  de las utilidades es {round((sum(hist)/10000),2)}±{round((1.960201*(desviacion(hist,10000,False)))/(10000**(1/2)),2)}')"
      ],
      "metadata": {
        "colab": {
          "base_uri": "https://localhost:8080/",
          "height": 551
        },
        "id": "d29zY2mg0LEx",
        "outputId": "cd79a9a7-f494-46f7-95f8-102507fefb79"
      },
      "execution_count": 5,
      "outputs": [
        {
          "output_type": "stream",
          "name": "stdout",
          "text": [
            "---------- Practica 2 - Simulacion de Sistemas ----------\n",
            "-- Punto 1 --\n",
            "Ingrese el numero de dias con los que desee saber el valor esperado del bono de un vendedor\n",
            "100\n",
            "El valor esperado de el bono que un vendedor puede obtener en un dia es:$8.85\n",
            "\n",
            "-- Punto 2 --\n",
            "El numero de interacciones necesarias es 982.45\n",
            "-- Punto 3 --\n",
            "El minimo de las utilidades es 0\n",
            "El maximo de las utilidades es 85\n",
            "El promedio de las utilidades es 11.0\n",
            "La mediana de  de las utilidades es 0.0\n",
            "La desviacion de  de las utilidades es 11.0±0.31\n"
          ]
        },
        {
          "output_type": "display_data",
          "data": {
            "text/plain": [
              "<Figure size 432x288 with 1 Axes>"
            ],
            "image/png": "[encoded data removed]"
          },
          "metadata": {
            "needs_background": "light"
          }
        }
      ]
    }
  ]
}