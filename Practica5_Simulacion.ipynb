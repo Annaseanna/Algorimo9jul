{
  "nbformat": 4,
  "nbformat_minor": 0,
  "metadata": {
    "colab": {
      "provenance": [],
      "authorship_tag": "ABX9TyOkJnuVTIGj+H3znlvIvbdl",
      "include_colab_link": true
    },
    "kernelspec": {
      "name": "python3",
      "display_name": "Python 3"
    },
    "language_info": {
      "name": "python"
    }
  },
  "cells": [
    {
      "cell_type": "markdown",
      "metadata": {
        "id": "view-in-github",
        "colab_type": "text"
      },
      "source": [
        "<a href=\"https://colab.research.google.com/github/Annaseanna/Simulacion-de-sistemas/blob/main/Practica5_Simulacion.ipynb\" target=\"_parent\"><img src=\"https://colab.research.google.com/assets/colab-badge.svg\" alt=\"Open In Colab\"/></a>"
      ]
    },
    {
      "cell_type": "markdown",
      "source": [
        "# **Práctica 5- Simulación de Sistemas**\n",
        "***Anna Ospina Bedoya***"
      ],
      "metadata": {
        "id": "5SF4PK-UBzcr"
      }
    },
    {
      "cell_type": "markdown",
      "source": [
        "Ejercicio 1. La circunferencia de los postes de una batería de níquel-cadmio sigue una distribución Weibull con parámetros: υ=3.25cm β=⅓ y α=0.005cm. Usando transformada inversa:\n",
        "\n",
        "\n"
      ],
      "metadata": {
        "id": "WUoT6IBABwe7"
      }
    },
    {
      "cell_type": "code",
      "metadata": {
        "id": "Y5rXcawzUX3Q"
      },
      "source": [
        "# función que genera una observación Weibull con nu=0\n",
        "# weibull con 2 parámetros w(escala,forma)\n",
        "import random\n",
        "import math \n",
        "import numpy as np\n",
        "#Se crea una funcion que reciba como parametros alpha, beta y miu\n",
        "def fweibull(a,b,nu):\n",
        "  r=random.random()\n",
        "  #Se aplica la formula de weibull\n",
        "  obs=a*(-math.log(1-r))**(1/b)+nu\n",
        "  return(obs)\n",
        "#Numero de simulaciones\n",
        "n=10000\n",
        "#Se llamara la funcion y se guardaran los valores en la lista segun el # de observaciones\n",
        "lista=[]\n",
        "#Se agregara a la lista los valores obtenidos al llamar la funcion \n",
        "for i in range(n):\n",
        "  lista.append(fweibull(0.005,1/3,3.25))\n",
        "\n"
      ],
      "execution_count": null,
      "outputs": []
    },
    {
      "cell_type": "markdown",
      "source": [
        "\n",
        "Encuentre la probabilidad de que un poste seleccionado aleatoriamente tenga una circunferencia mayor que 3.4cm.\n"
      ],
      "metadata": {
        "id": "EW81SVKK95Lu"
      }
    },
    {
      "cell_type": "code",
      "source": [
        "#Se agregan los postes que su circunferencia sea mayor a 4\n",
        "x=[x for x in lista if x>3.4]\n",
        "#La probabilidad es la longitud de la lista sobre el total de iteracciones\n",
        "prob=len(x)/n\n",
        "print(f'La probabilidad de que un poste seleccionado tenga una circunferencia mayor que 3.4 c.m es: {prob}')\n",
        "\n",
        "\n"
      ],
      "metadata": {
        "colab": {
          "base_uri": "https://localhost:8080/"
        },
        "id": "Hp1-hWHn-ygm",
        "outputId": "4ad4704d-0cb8-4a8e-d008-e57cd29c4ed6"
      },
      "execution_count": null,
      "outputs": [
        {
          "output_type": "stream",
          "name": "stdout",
          "text": [
            "La probabilidad de que un poste seleccionado tenga una circunferencia mayor que 3.4 c.m es: 0.0439\n"
          ]
        }
      ]
    },
    {
      "cell_type": "markdown",
      "source": [
        "\n",
        "Un poste con circunferencia mayor que 3.5cm, no cabe en el orificio suministrado. Si el poste tiene una circunferencia menor que 3.3cm, no se ajusta suficientemente al orificio. ¿Qué proporción de los postes debe desecharse por tales razones?"
      ],
      "metadata": {
        "id": "3q-XHxpy_PiJ"
      }
    },
    {
      "cell_type": "code",
      "source": [
        "#Se agregan solo los elementos que sean menores a 3.3 y mayores a 3.5 (para desecharlos)\n",
        "a=[x for x in lista if x<3.3 or x>3.5]\n",
        "#Se saca la probabilidad y se multiplica *100 para obtener la proporcion\n",
        "d=(len(a)/n)*100\n",
        "print(f'Se debe desechar aproximadamente {d} postes porque no caben en el orificio suministrado') "
      ],
      "metadata": {
        "colab": {
          "base_uri": "https://localhost:8080/"
        },
        "id": "iE8FS6Va_axm",
        "outputId": "1f7e09b9-ac0d-4b28-c713-dde49a622b8e"
      },
      "execution_count": null,
      "outputs": [
        {
          "output_type": "stream",
          "name": "stdout",
          "text": [
            "Se debe desechar aproximadamente 90.89 postes porque no caben en el orificio suministrado\n"
          ]
        }
      ]
    },
    {
      "cell_type": "markdown",
      "source": [
        "Una ruta de correo consiste en 5 segmentos que se recorren en un tiempo distribuido de manera normal, con las siguientes medias y varianzas:\n",
        "\n",
        "Plaza luces N(38,16)\n",
        "\n",
        "Carabobo N(99,29)\n",
        "\n",
        "Shanghai N(73,20)\n",
        "\n",
        "La Cascada N(52,12)\n",
        "\n",
        "Japón N (85,25)\n",
        "\n",
        "Además de los tiempos mencionados, los carteros deben organizar el correo en la oficina central, actividad que tarda un tiempo distribuido cono N(90,25). El recorrido al punto inicial de la ruta requiere un tiempo distribuido como N(10,4). El regreso después del recorrido requiere un tiempo distribuido como N(15,4) y al regresar, se hacen labores administrativas que toman un tiempo distribuido como N(30,9).  Usando el método Box-Müller\n",
        "\n"
      ],
      "metadata": {
        "id": "b9yMdsdNLEHT"
      }
    },
    {
      "cell_type": "code",
      "source": [
        "#Definimos la funcion de box muller que recibe como parametros 2 parametros miu y sigma\n",
        "def boxmuller(u,d):\n",
        "  #Sacamos la raiz cuadrada de d ya que necesitamos a la varianza\n",
        "  desviacion=math.sqrt(d)\n",
        "  #Generamos los dos numeros aleatorios\n",
        "  u1=random.random()\n",
        "  u2=random.random()\n",
        "  #Aplicamos la formula\n",
        "  x1=math.sqrt(-2*math.log(u1))*math.cos(2*math.pi*u2)\n",
        "  x2=math.sqrt(-2*math.log(u1))*math.sin(2*math.pi*u2)\n",
        "  x1_1=u+desviacion*x1\n",
        "  x2_2=u+desviacion*x2\n",
        "  #Retornamos un tupla con x1' y x2'\n",
        "  return x1_1,x2_2\n",
        "#Ingresamos el numero de simulaciones a ejecutar\n",
        "n=10000\n",
        "def simulaciones(n):\n",
        "  #Creamos una lista vacia donde vamos a almacenar los tiempos para x1 y x2\n",
        "  tiempos=[]\n",
        "  for i in range(n):\n",
        "    lista=[]\n",
        "    #inicializamos los valores por defecto\n",
        "    tiempo_total1=0\n",
        "    tiempo_total2=0\n",
        "    #agregamos los valores e la practica y llamamos a la funcion\n",
        "    lista.append(boxmuller(38,16))\n",
        "    lista.append(boxmuller(99,16))\n",
        "    lista.append(boxmuller(73,20))\n",
        "    lista.append(boxmuller(52,12))\n",
        "    lista.append(boxmuller(85,25))\n",
        "    lista.append(boxmuller(90,25))\n",
        "    lista.append(boxmuller(10,4))\n",
        "    lista.append(boxmuller(15,4))\n",
        "    lista.append(boxmuller(30,9))\n",
        "    #accedemos a los valores de la tupla\n",
        "    for j in lista:\n",
        "      tiempo_total1+=j[0]\n",
        "      tiempo_total2+=j[1]\n",
        "    #agregamos en el total los valores obtenidos\n",
        "    tiempos.append(tiempo_total1)\n",
        "    tiempos.append(tiempo_total2)\n",
        "    #como nuestro tiempo esta en minutos dividimos cada valor en 60 para obtener los valores en horas\n",
        "  return [i/60 for i in tiempos]\n",
        "#definimos el numero de simulaciones\n",
        "a=simulaciones(10000)\n",
        "#sumamos los valores y los dividimos en n*2\n",
        "print(f'La duracion espererada de la jornada laboral en esta ruta es de {round((sum(a)/20000),2)}')"
      ],
      "metadata": {
        "colab": {
          "base_uri": "https://localhost:8080/"
        },
        "id": "3qqIzuuxOc42",
        "outputId": "0c103785-1d62-4fe1-a90d-f7dd96841eae"
      },
      "execution_count": null,
      "outputs": [
        {
          "output_type": "stream",
          "name": "stdout",
          "text": [
            "La duracion espererada de la jornada laboral en esta ruta es de 8.2\n"
          ]
        }
      ]
    },
    {
      "cell_type": "markdown",
      "source": [
        "\n",
        "\n",
        "El tiempo que la jornada se extienda por encima de las 8 horas es tiempo extra. ¿Cuál es la probabilidad de que haya horas extra en esta ruta?"
      ],
      "metadata": {
        "id": "WAZ5VeidAWph"
      }
    },
    {
      "cell_type": "code",
      "source": [
        "observaciones=simulaciones(n)\n",
        "#agregamos cada x a esa lista cuando x sea mayor a 8\n",
        "lista=[x for x in observaciones if x>8]\n",
        "#se toma la longitud de la lista y se divide sobre la longitud del bloque llamado observaciones\n",
        "print(f'La probabilidad de que haya horas extra en esta ruta es {len(lista)/len(observaciones)}')"
      ],
      "metadata": {
        "colab": {
          "base_uri": "https://localhost:8080/"
        },
        "id": "rmZb1KpXgQtu",
        "outputId": "7cecf644-d965-48ee-c295-283bd0391081"
      },
      "execution_count": null,
      "outputs": [
        {
          "output_type": "stream",
          "name": "stdout",
          "text": [
            "La probabilidad de que haya horas extra en esta ruta es 0.8524\n"
          ]
        }
      ]
    },
    {
      "cell_type": "markdown",
      "source": [
        "¿Cuál es la probabilidad de que una persona que reparta correo en la ruta trabaje horas extra en dos o  más días de una semana de seis días?"
      ],
      "metadata": {
        "id": "FxuAGOT2Acas"
      }
    },
    {
      "cell_type": "code",
      "source": [
        "def semanas(semana):\n",
        "  #se define un contador\n",
        "  count=0\n",
        "  semanas=[]\n",
        "  #se guardaran 6 dias de simulacion en cada iteracion\n",
        "  for i in range(semana):\n",
        "    semanas.append(simulaciones(3))\n",
        "  for i in semanas:\n",
        "    #para cada x en la lista de semana se preguntara si es mayor a 8\n",
        "    x=[x for x in i if x>8]\n",
        "    #si la longitud de esta lista es mayor a o igual a 2 es porque ha laborado dos o mas dias\n",
        "    if len(x)>=2:\n",
        "      #se aumenta el contador en 1 unidad\n",
        "      count+=1\n",
        "  #se retorna el contador dividido el numero de simulaciones\n",
        "  return count/semana\n",
        "print(f'La probabilidad de que un trabajador tenga horas extras en 2 o mas dias por semana es de {semanas(10000)}')"
      ],
      "metadata": {
        "colab": {
          "base_uri": "https://localhost:8080/"
        },
        "id": "vNLLNrmtip-Z",
        "outputId": "175f6e6d-f858-4455-9e13-5a7d088c93ec"
      },
      "execution_count": null,
      "outputs": [
        {
          "output_type": "stream",
          "name": "stdout",
          "text": [
            "La probabilidad de que un trabajador tenga horas extras en 2 o mas dias por semana es de 0.9996\n"
          ]
        }
      ]
    },
    {
      "cell_type": "markdown",
      "source": [
        "¿Cuál es la probabilidad de que la ruta se termine dentro de 8h±24min?"
      ],
      "metadata": {
        "id": "8WjcdDqPAuM2"
      }
    },
    {
      "cell_type": "code",
      "source": [
        "#si el tiempo esta entre 7.6 y 8.4 se agrega a x\n",
        "x=[x for x in observaciones if x<=8.4 and x>=7.6]\n",
        "#se divide la longitud de x sobre el numero de simulaciones\n",
        "print(f'La probabilidad de que acabe la ruta en 8h±24min es de {len(x)/len(observaciones)}')"
      ],
      "metadata": {
        "colab": {
          "base_uri": "https://localhost:8080/"
        },
        "id": "Fm0ZzWITrN9c",
        "outputId": "77c0dedd-383c-43dd-b901-f4548bc787f9"
      },
      "execution_count": null,
      "outputs": [
        {
          "output_type": "stream",
          "name": "stdout",
          "text": [
            "La probabilidad de que acabe la ruta en 8h±24min es de 0.84915\n"
          ]
        }
      ]
    },
    {
      "cell_type": "markdown",
      "source": [
        "Ejercicio 3. \n",
        "\n",
        "Generar N=10000 observaciones aleatorias usando la siguiente función de densidad de probabilidad y el método de aceptación-rechazo.  \n",
        "$f(x)=\\frac{1}{32}(8-x^3), -2\\leq x \\leq 2$\n",
        "\n",
        "$(a,b)=(-2,2)$\n",
        "\n",
        "$g(x)=\\frac{1}{32}(8-x^3)=x^2$\n",
        "Graficar las observaciones aceptadas y rechazadas. \n",
        "\n",
        " Para cada ejercicio:\n",
        "\n",
        "Crear funciones de python que generen observaciones con las distribuciones y métodos planteados.\n",
        "\n",
        "Resolver los problemas con base en al menos 10000 iteraciones."
      ],
      "metadata": {
        "id": "mq0cvBDyBpDp"
      }
    },
    {
      "cell_type": "code",
      "source": [
        "import random \n",
        "import matplotlib.pyplot as plt\n",
        "import numpy as np\n",
        "\n",
        "# esta función implementa el método aceptación-rechazo para el ejemplo anterior\n",
        "\n",
        "def ar():\n",
        "    #generar r1, r2\n",
        "    r1 = random.random()\n",
        "    r2 = random.random()\n",
        "    # calcular x en (a=-2, b=2)\n",
        "    x= -2 + 4*r1\n",
        "    # evaluar gx(x)\n",
        "    gx = 0.5-(math.pow(x,3)/16)\n",
        "    print('r1:',r1,'r2:',r2) \n",
        "    while r2 > gx:\n",
        "      # si no se cumple la condición, rechazar\n",
        "      print('x=',x,'no es observación')\n",
        "      r1 = random.random()\n",
        "      r2 = random.random()\n",
        "      print('r1:',r1,'r2:',r2) \n",
        "      x= -2 + 4*r1\n",
        "      gx = 0.5-(math.pow(x,3)/16)\n",
        "    \n",
        "    resu=x\n",
        "    return x\n",
        "x=ar()\n",
        "print('x=',x,'es observación')\n",
        "# esta es la misma función g(x) = f(x)/M = 3*x^2/3\n",
        "def g(x):\n",
        "  resu= 0.5-((x*x*x)/16)\n",
        "  return resu\n",
        "\n",
        "# esta función calcula x con base en r aleatorio\n",
        "def equis(r):\n",
        "  resu=-2 + 4*r1\n",
        "  return resu\n",
        "\n",
        "# La función de Numpy random.uniform(low=0.0, high=1.0, size=None)\n",
        "# genera una muestra de size números uniformes entre low y high.\n",
        "# con random.uniform se toman muestras r1 y r2 de tamaño N=10000 \n",
        "r1=np.random.uniform(0,1,10000)\n",
        "# la función equis(x) permite calcular el valor de x \n",
        "x1=equis(r1)\n",
        "r2=np.random.uniform(0,1,10000)\n",
        "# estos son los aceptados\n",
        "aceptados=r2<=g(x1)\n",
        "\n",
        "# graficar los pares\n",
        "plt.scatter(x1,r2,s=0.1,c='orange')\n",
        "\n",
        "# graficar los aceptados\n",
        "plt.scatter(x1[aceptados],r2[aceptados],s=0.1,c='blue')\n",
        "plt.show()"
      ],
      "metadata": {
        "colab": {
          "base_uri": "https://localhost:8080/",
          "height": 375
        },
        "id": "4P_FiAX0sEpB",
        "outputId": "81ccf6de-6cbe-4072-b6e5-7cf73193fc3a"
      },
      "execution_count": null,
      "outputs": [
        {
          "output_type": "stream",
          "name": "stdout",
          "text": [
            "r1: 0.40499161397212213 r2: 0.8232323955292228\n",
            "x= -0.38003354411151147 no es observación\n",
            "r1: 0.7647489274302347 r2: 0.7659493234175337\n",
            "x= 1.0589957097209388 no es observación\n",
            "r1: 0.44599632405484 r2: 0.46147780518498205\n",
            "x= -0.21601470378063992 es observación\n"
          ]
        },
        {
          "output_type": "display_data",
          "data": {
            "text/plain": [
              "<Figure size 432x288 with 1 Axes>"
            ],
            "image/png": "[encoded data removed]"
          },
          "metadata": {
            "needs_background": "light"
          }
        }
      ]
    }
  ]
}